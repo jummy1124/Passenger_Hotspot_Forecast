{
 "cells": [
  {
   "cell_type": "code",
   "execution_count": 1,
   "metadata": {},
   "outputs": [],
   "source": [
    "import numpy as np\n",
    "import pandas as pd\n",
    "import matplotlib.pyplot as plt\n",
    "%matplotlib inline"
   ]
  },
  {
   "cell_type": "code",
   "execution_count": 2,
   "metadata": {},
   "outputs": [
    {
     "data": {
      "text/plain": [
       "(219600, 4)"
      ]
     },
     "execution_count": 2,
     "metadata": {},
     "output_type": "execute_result"
    }
   ],
   "source": [
    "#Read training data\n",
    "df_train = pd.read_csv('train_hire_stats.csv')\n",
    "df_train.shape"
   ]
  },
  {
   "cell_type": "code",
   "execution_count": 3,
   "metadata": {},
   "outputs": [],
   "source": [
    "#Check weekday & workday\n",
    "#holidays連假的平常日\n",
    "#workdays連假的補班日\n",
    "\n",
    "holidays= {'2016-02-08', '2016-02-09', '2016-02-10', '2016-02-11', '2016-02-12','2016-02-29', '2016-04-04', '2016-04-05', '2016-6-9', '2016-6-10', \n",
    "'2016-09-15', '2016-09-16', '2016-10-10', '2017-01-02', '2017-01-27', '2017-01-30', '2017-02-01','2017-02-27', '2017-02-28'}\n",
    "makeupworkdays = {'2016-06-04', '2016-09-10', '2017-02-18'}"
   ]
  },
  {
   "cell_type": "code",
   "execution_count": 4,
   "metadata": {},
   "outputs": [
    {
     "data": {
      "text/html": [
       "<div>\n",
       "<style scoped>\n",
       "    .dataframe tbody tr th:only-of-type {\n",
       "        vertical-align: middle;\n",
       "    }\n",
       "\n",
       "    .dataframe tbody tr th {\n",
       "        vertical-align: top;\n",
       "    }\n",
       "\n",
       "    .dataframe thead th {\n",
       "        text-align: right;\n",
       "    }\n",
       "</style>\n",
       "<table border=\"1\" class=\"dataframe\">\n",
       "  <thead>\n",
       "    <tr style=\"text-align: right;\">\n",
       "      <th></th>\n",
       "      <th>Zone_ID</th>\n",
       "      <th>Date</th>\n",
       "      <th>Hour_slot</th>\n",
       "      <th>Hire_count</th>\n",
       "    </tr>\n",
       "  </thead>\n",
       "  <tbody>\n",
       "    <tr>\n",
       "      <th>0</th>\n",
       "      <td>1</td>\n",
       "      <td>2016-02-01</td>\n",
       "      <td>0</td>\n",
       "      <td>0</td>\n",
       "    </tr>\n",
       "    <tr>\n",
       "      <th>1</th>\n",
       "      <td>1</td>\n",
       "      <td>2016-02-01</td>\n",
       "      <td>1</td>\n",
       "      <td>0</td>\n",
       "    </tr>\n",
       "    <tr>\n",
       "      <th>2</th>\n",
       "      <td>1</td>\n",
       "      <td>2016-02-01</td>\n",
       "      <td>2</td>\n",
       "      <td>0</td>\n",
       "    </tr>\n",
       "    <tr>\n",
       "      <th>3</th>\n",
       "      <td>1</td>\n",
       "      <td>2016-02-01</td>\n",
       "      <td>3</td>\n",
       "      <td>0</td>\n",
       "    </tr>\n",
       "    <tr>\n",
       "      <th>4</th>\n",
       "      <td>1</td>\n",
       "      <td>2016-02-01</td>\n",
       "      <td>4</td>\n",
       "      <td>0</td>\n",
       "    </tr>\n",
       "  </tbody>\n",
       "</table>\n",
       "</div>"
      ],
      "text/plain": [
       "   Zone_ID        Date  Hour_slot  Hire_count\n",
       "0        1  2016-02-01          0           0\n",
       "1        1  2016-02-01          1           0\n",
       "2        1  2016-02-01          2           0\n",
       "3        1  2016-02-01          3           0\n",
       "4        1  2016-02-01          4           0"
      ]
     },
     "execution_count": 4,
     "metadata": {},
     "output_type": "execute_result"
    }
   ],
   "source": [
    "df_train.head()"
   ]
  },
  {
   "cell_type": "code",
   "execution_count": 5,
   "metadata": {},
   "outputs": [],
   "source": [
    "#Declare weekday & workday\n",
    "\n",
    "isworkday = np.ones((len(df_train),), dtype=int)\n",
    "weekday = np.ones((len(df_train),), dtype=int)"
   ]
  },
  {
   "cell_type": "code",
   "execution_count": 6,
   "metadata": {},
   "outputs": [],
   "source": [
    "#Compute weekday & workday\n",
    "#weekday()\n",
    "#0 == Monday, #1 == Tuesday, #2 == Wednesday,  #3 == Thursday,  #4 == Friday,  #5 == Saturday, #6 == Sunday\n",
    "\n",
    "from datetime import datetime\n",
    "\n",
    "for index, row in df_train.iterrows():\n",
    "    if row['Date'] in holidays:\n",
    "        isworkday[index] = 0\n",
    "    else:\n",
    "        dd=datetime.strptime(row['Date'], \"%Y-%m-%d\")\n",
    "        weekday[index]= dd.weekday() \n",
    "        if weekday[index] >=5 and row['Date'] not in makeupworkdays:\n",
    "            isworkday[index] = 0\n"
   ]
  },
  {
   "cell_type": "code",
   "execution_count": 7,
   "metadata": {},
   "outputs": [],
   "source": [
    "#Build a new dataframe from the training data\n",
    "\n",
    "RawX = pd.DataFrame(df_train[[\"Zone_ID\", \"Hour_slot\",\"Hire_count\"]])\n",
    "RawX['isworkday'] = isworkday\n",
    "RawX['weekday'] = weekday"
   ]
  },
  {
   "cell_type": "code",
   "execution_count": 8,
   "metadata": {},
   "outputs": [
    {
     "name": "stdout",
     "output_type": "stream",
     "text": [
      "(219600, 5)\n"
     ]
    }
   ],
   "source": [
    "print(RawX.shape)"
   ]
  },
  {
   "cell_type": "code",
   "execution_count": 9,
   "metadata": {},
   "outputs": [],
   "source": [
    "#Resize y into (0,1)\n",
    "\n",
    "y = RawX[\"Hire_count\"].values\n",
    "y.shape\n",
    "RawX=RawX.drop(columns=['Hire_count'])"
   ]
  },
  {
   "cell_type": "code",
   "execution_count": 10,
   "metadata": {},
   "outputs": [
    {
     "data": {
      "text/html": [
       "<div>\n",
       "<style scoped>\n",
       "    .dataframe tbody tr th:only-of-type {\n",
       "        vertical-align: middle;\n",
       "    }\n",
       "\n",
       "    .dataframe tbody tr th {\n",
       "        vertical-align: top;\n",
       "    }\n",
       "\n",
       "    .dataframe thead th {\n",
       "        text-align: right;\n",
       "    }\n",
       "</style>\n",
       "<table border=\"1\" class=\"dataframe\">\n",
       "  <thead>\n",
       "    <tr style=\"text-align: right;\">\n",
       "      <th></th>\n",
       "      <th>Zone_ID</th>\n",
       "      <th>Hour_slot</th>\n",
       "      <th>isworkday</th>\n",
       "      <th>weekday</th>\n",
       "    </tr>\n",
       "  </thead>\n",
       "  <tbody>\n",
       "    <tr>\n",
       "      <th>0</th>\n",
       "      <td>1</td>\n",
       "      <td>0</td>\n",
       "      <td>1</td>\n",
       "      <td>0</td>\n",
       "    </tr>\n",
       "    <tr>\n",
       "      <th>1</th>\n",
       "      <td>1</td>\n",
       "      <td>1</td>\n",
       "      <td>1</td>\n",
       "      <td>0</td>\n",
       "    </tr>\n",
       "    <tr>\n",
       "      <th>2</th>\n",
       "      <td>1</td>\n",
       "      <td>2</td>\n",
       "      <td>1</td>\n",
       "      <td>0</td>\n",
       "    </tr>\n",
       "    <tr>\n",
       "      <th>3</th>\n",
       "      <td>1</td>\n",
       "      <td>3</td>\n",
       "      <td>1</td>\n",
       "      <td>0</td>\n",
       "    </tr>\n",
       "    <tr>\n",
       "      <th>4</th>\n",
       "      <td>1</td>\n",
       "      <td>4</td>\n",
       "      <td>1</td>\n",
       "      <td>0</td>\n",
       "    </tr>\n",
       "  </tbody>\n",
       "</table>\n",
       "</div>"
      ],
      "text/plain": [
       "   Zone_ID  Hour_slot  isworkday  weekday\n",
       "0        1          0          1        0\n",
       "1        1          1          1        0\n",
       "2        1          2          1        0\n",
       "3        1          3          1        0\n",
       "4        1          4          1        0"
      ]
     },
     "execution_count": 10,
     "metadata": {},
     "output_type": "execute_result"
    }
   ],
   "source": [
    "#See the raw input data\n",
    "\n",
    "RawX.head()"
   ]
  },
  {
   "cell_type": "code",
   "execution_count": 11,
   "metadata": {},
   "outputs": [],
   "source": [
    "#Use OneHotEncoder\n",
    "\n",
    "from sklearn.preprocessing import OneHotEncoder\n",
    "enc = OneHotEncoder(handle_unknown='ignore')"
   ]
  },
  {
   "cell_type": "code",
   "execution_count": 12,
   "metadata": {},
   "outputs": [
    {
     "data": {
      "text/plain": [
       "[array([ 1,  2,  3,  4,  5,  6,  7,  8,  9, 10, 11, 12, 13, 14, 15, 16, 17,\n",
       "        18, 19, 20, 21, 22, 23, 24, 25], dtype=int64),\n",
       " array([ 0,  1,  2,  3,  4,  5,  6,  7,  8,  9, 10, 11, 12, 13, 14, 15, 16,\n",
       "        17, 18, 19, 20, 21, 22, 23], dtype=int64),\n",
       " array([0, 1]),\n",
       " array([0, 1, 2, 3, 4, 5, 6])]"
      ]
     },
     "execution_count": 12,
     "metadata": {},
     "output_type": "execute_result"
    }
   ],
   "source": [
    "#Build encoder\n",
    "\n",
    "enc.fit_transform(RawX)\n",
    "enc.categories_"
   ]
  },
  {
   "cell_type": "code",
   "execution_count": 13,
   "metadata": {},
   "outputs": [
    {
     "data": {
      "text/plain": [
       "(219600, 58)"
      ]
     },
     "execution_count": 13,
     "metadata": {},
     "output_type": "execute_result"
    }
   ],
   "source": [
    "#Transform data into one hot vector\n",
    "\n",
    "X = enc.transform(RawX).toarray()\n",
    "X.shape"
   ]
  },
  {
   "cell_type": "code",
   "execution_count": 14,
   "metadata": {},
   "outputs": [
    {
     "data": {
      "text/plain": [
       "array([[1., 0., 0., 0., 0., 0., 0., 0., 0., 0., 0., 0., 0., 0., 0., 0.,\n",
       "        0., 0., 0., 0., 0., 0., 0., 0., 0., 1., 0., 0., 0., 0., 0., 0.,\n",
       "        0., 0., 0., 0., 0., 0., 0., 0., 0., 0., 0., 0., 0., 0., 0., 0.,\n",
       "        0., 0., 1., 1., 0., 0., 0., 0., 0., 0.],\n",
       "       [1., 0., 0., 0., 0., 0., 0., 0., 0., 0., 0., 0., 0., 0., 0., 0.,\n",
       "        0., 0., 0., 0., 0., 0., 0., 0., 0., 0., 1., 0., 0., 0., 0., 0.,\n",
       "        0., 0., 0., 0., 0., 0., 0., 0., 0., 0., 0., 0., 0., 0., 0., 0.,\n",
       "        0., 0., 1., 1., 0., 0., 0., 0., 0., 0.],\n",
       "       [1., 0., 0., 0., 0., 0., 0., 0., 0., 0., 0., 0., 0., 0., 0., 0.,\n",
       "        0., 0., 0., 0., 0., 0., 0., 0., 0., 0., 0., 1., 0., 0., 0., 0.,\n",
       "        0., 0., 0., 0., 0., 0., 0., 0., 0., 0., 0., 0., 0., 0., 0., 0.,\n",
       "        0., 0., 1., 1., 0., 0., 0., 0., 0., 0.]])"
      ]
     },
     "execution_count": 14,
     "metadata": {},
     "output_type": "execute_result"
    }
   ],
   "source": [
    "#See the cooked input data\n",
    "X[0:3, :]"
   ]
  },
  {
   "cell_type": "code",
   "execution_count": 15,
   "metadata": {},
   "outputs": [],
   "source": [
    "import tensorflow as tf\n",
    "from tensorflow import keras\n",
    "from tensorflow.keras.models import Sequential\n",
    "from tensorflow.keras.layers import Input, Dense, Activation, Dropout"
   ]
  },
  {
   "cell_type": "code",
   "execution_count": 16,
   "metadata": {},
   "outputs": [
    {
     "name": "stdout",
     "output_type": "stream",
     "text": [
      "WARNING:tensorflow:From D:\\Anaconda3\\lib\\site-packages\\tensorflow\\python\\ops\\resource_variable_ops.py:435: colocate_with (from tensorflow.python.framework.ops) is deprecated and will be removed in a future version.\n",
      "Instructions for updating:\n",
      "Colocations handled automatically by placer.\n",
      "WARNING:tensorflow:From D:\\Anaconda3\\lib\\site-packages\\tensorflow\\python\\keras\\layers\\core.py:143: calling dropout (from tensorflow.python.ops.nn_ops) with keep_prob is deprecated and will be removed in a future version.\n",
      "Instructions for updating:\n",
      "Please use `rate` instead of `keep_prob`. Rate should be set to `rate = 1 - keep_prob`.\n"
     ]
    }
   ],
   "source": [
    "# create and fit a Baseline Neural Network Model\n",
    "\n",
    "model = Sequential()\n",
    "model.add(Dense(128, activation='relu', input_dim=58))\n",
    "model.add(Dense(units=64, activation='relu'))\n",
    "model.add(Dropout(0.1))\n",
    "model.add(Dense(1))"
   ]
  },
  {
   "cell_type": "code",
   "execution_count": 17,
   "metadata": {},
   "outputs": [
    {
     "name": "stdout",
     "output_type": "stream",
     "text": [
      "WARNING:tensorflow:From D:\\Anaconda3\\lib\\site-packages\\tensorflow\\python\\keras\\utils\\losses_utils.py:170: to_float (from tensorflow.python.ops.math_ops) is deprecated and will be removed in a future version.\n",
      "Instructions for updating:\n",
      "Use tf.cast instead.\n",
      "WARNING:tensorflow:From D:\\Anaconda3\\lib\\site-packages\\tensorflow\\python\\ops\\math_ops.py:3066: to_int32 (from tensorflow.python.ops.math_ops) is deprecated and will be removed in a future version.\n",
      "Instructions for updating:\n",
      "Use tf.cast instead.\n",
      "Epoch 1/50\n",
      "219600/219600 [==============================] - 12s 56us/sample - loss: 586.2647\n",
      "Epoch 2/50\n",
      "219600/219600 [==============================] - 1s 5us/sample - loss: 119.0609\n",
      "Epoch 3/50\n",
      "219600/219600 [==============================] - 1s 4us/sample - loss: 90.0519\n",
      "Epoch 4/50\n",
      "219600/219600 [==============================] - 1s 4us/sample - loss: 78.0599\n",
      "Epoch 5/50\n",
      "219600/219600 [==============================] - 1s 4us/sample - loss: 72.7778\n",
      "Epoch 6/50\n",
      "219600/219600 [==============================] - 1s 4us/sample - loss: 68.4357\n",
      "Epoch 7/50\n",
      "219600/219600 [==============================] - 1s 4us/sample - loss: 66.4011\n",
      "Epoch 8/50\n",
      "219600/219600 [==============================] - 1s 4us/sample - loss: 64.5155\n",
      "Epoch 9/50\n",
      "219600/219600 [==============================] - 1s 4us/sample - loss: 63.5934\n",
      "Epoch 10/50\n",
      "219600/219600 [==============================] - 1s 4us/sample - loss: 62.9108\n",
      "Epoch 11/50\n",
      "219600/219600 [==============================] - 1s 4us/sample - loss: 62.4410\n",
      "Epoch 12/50\n",
      "219600/219600 [==============================] - 1s 5us/sample - loss: 61.8940\n",
      "Epoch 13/50\n",
      "219600/219600 [==============================] - 1s 5us/sample - loss: 61.6839\n",
      "Epoch 14/50\n",
      "219600/219600 [==============================] - 1s 5us/sample - loss: 61.8192\n",
      "Epoch 15/50\n",
      "219600/219600 [==============================] - 1s 4us/sample - loss: 61.9202\n",
      "Epoch 16/50\n",
      "219600/219600 [==============================] - 1s 4us/sample - loss: 61.2008\n",
      "Epoch 17/50\n",
      "219600/219600 [==============================] - 1s 4us/sample - loss: 61.2607\n",
      "Epoch 18/50\n",
      "219600/219600 [==============================] - 1s 4us/sample - loss: 61.1548\n",
      "Epoch 19/50\n",
      "219600/219600 [==============================] - 1s 4us/sample - loss: 60.5176\n",
      "Epoch 20/50\n",
      "219600/219600 [==============================] - 1s 4us/sample - loss: 60.8183\n",
      "Epoch 21/50\n",
      "219600/219600 [==============================] - 1s 5us/sample - loss: 60.9110\n",
      "Epoch 22/50\n",
      "219600/219600 [==============================] - 1s 4us/sample - loss: 60.7460\n",
      "Epoch 23/50\n",
      "219600/219600 [==============================] - 1s 4us/sample - loss: 60.8224\n",
      "Epoch 24/50\n",
      "219600/219600 [==============================] - 1s 4us/sample - loss: 60.3919\n",
      "Epoch 25/50\n",
      "219600/219600 [==============================] - 1s 4us/sample - loss: 60.7395\n",
      "Epoch 26/50\n",
      "219600/219600 [==============================] - 1s 4us/sample - loss: 60.8222\n",
      "Epoch 27/50\n",
      "219600/219600 [==============================] - 1s 5us/sample - loss: 60.7014\n",
      "Epoch 28/50\n",
      "219600/219600 [==============================] - 1s 5us/sample - loss: 60.4341\n",
      "Epoch 29/50\n",
      "219600/219600 [==============================] - 1s 4us/sample - loss: 60.3069\n",
      "Epoch 30/50\n",
      "219600/219600 [==============================] - 1s 4us/sample - loss: 60.4595\n",
      "Epoch 31/50\n",
      "219600/219600 [==============================] - 1s 4us/sample - loss: 60.2332\n",
      "Epoch 32/50\n",
      "219600/219600 [==============================] - 1s 4us/sample - loss: 60.3410\n",
      "Epoch 33/50\n",
      "219600/219600 [==============================] - 1s 4us/sample - loss: 60.3361\n",
      "Epoch 34/50\n",
      "219600/219600 [==============================] - 1s 5us/sample - loss: 60.0501\n",
      "Epoch 35/50\n",
      "219600/219600 [==============================] - 1s 4us/sample - loss: 60.2105\n",
      "Epoch 36/50\n",
      "219600/219600 [==============================] - 1s 4us/sample - loss: 60.3064\n",
      "Epoch 37/50\n",
      "219600/219600 [==============================] - ETA: 0s - loss: 60.45 - 1s 4us/sample - loss: 60.3032\n",
      "Epoch 38/50\n",
      "219600/219600 [==============================] - 1s 4us/sample - loss: 59.9696\n",
      "Epoch 39/50\n",
      "219600/219600 [==============================] - 1s 4us/sample - loss: 59.7361\n",
      "Epoch 40/50\n",
      "219600/219600 [==============================] - 1s 4us/sample - loss: 60.3133\n",
      "Epoch 41/50\n",
      "219600/219600 [==============================] - 1s 4us/sample - loss: 59.8738\n",
      "Epoch 42/50\n",
      "219600/219600 [==============================] - 1s 4us/sample - loss: 60.0174\n",
      "Epoch 43/50\n",
      "219600/219600 [==============================] - 1s 4us/sample - loss: 60.0521\n",
      "Epoch 44/50\n",
      "219600/219600 [==============================] - 1s 5us/sample - loss: 59.8799\n",
      "Epoch 45/50\n",
      "219600/219600 [==============================] - 1s 5us/sample - loss: 60.0365\n",
      "Epoch 46/50\n",
      "219600/219600 [==============================] - 1s 4us/sample - loss: 59.8304\n",
      "Epoch 47/50\n",
      "219600/219600 [==============================] - 1s 5us/sample - loss: 60.0389\n",
      "Epoch 48/50\n",
      "219600/219600 [==============================] - 1s 4us/sample - loss: 59.8457\n",
      "Epoch 49/50\n",
      "219600/219600 [==============================] - 1s 4us/sample - loss: 60.0226\n",
      "Epoch 50/50\n",
      "219600/219600 [==============================] - 1s 4us/sample - loss: 59.7325\n"
     ]
    },
    {
     "data": {
      "text/plain": [
       "<tensorflow.python.keras.callbacks.History at 0x25bd8668828>"
      ]
     },
     "execution_count": 17,
     "metadata": {},
     "output_type": "execute_result"
    }
   ],
   "source": [
    "from tensorflow.keras.optimizers import Adam\n",
    "\n",
    "model.compile(loss='mse', optimizer=Adam(lr=1e-3,decay=1e-5))\n",
    "model.fit(X, y, epochs=50, batch_size=1000, verbose=1)"
   ]
  },
  {
   "cell_type": "code",
   "execution_count": 18,
   "metadata": {},
   "outputs": [
    {
     "data": {
      "text/plain": [
       "(6048, 5)"
      ]
     },
     "execution_count": 18,
     "metadata": {},
     "output_type": "execute_result"
    }
   ],
   "source": [
    "df_test = pd.read_csv('test_hire_stats.csv')\n",
    "df_test.shape"
   ]
  },
  {
   "cell_type": "code",
   "execution_count": 19,
   "metadata": {},
   "outputs": [],
   "source": [
    "#Declare weekday & workday\n",
    "\n",
    "isworkday2 = np.ones((len(df_test),), dtype=int)\n",
    "weekday2 = np.ones((len(df_test),), dtype=int)"
   ]
  },
  {
   "cell_type": "code",
   "execution_count": 20,
   "metadata": {},
   "outputs": [],
   "source": [
    "for index, row in df_test.iterrows():\n",
    "    if row['Date'] in holidays:\n",
    "        isworkday2[index] = 0\n",
    "    else:\n",
    "        dd=datetime.strptime(row['Date'], \"%Y-%m-%d\")\n",
    "        weekday2[index]= dd.weekday() \n",
    "        if weekday2[index] >=5 and row['Date'] not in makeupworkdays:\n",
    "            isworkday2[index] = 0"
   ]
  },
  {
   "cell_type": "code",
   "execution_count": 21,
   "metadata": {},
   "outputs": [],
   "source": [
    "Test = pd.DataFrame(df_test[[\"Zone_ID\", \"Hour_slot\"]])\n",
    "Test['isworkday'] = isworkday2\n",
    "Test['weekday'] = weekday2"
   ]
  },
  {
   "cell_type": "code",
   "execution_count": 22,
   "metadata": {},
   "outputs": [
    {
     "data": {
      "text/plain": [
       "(6048, 58)"
      ]
     },
     "execution_count": 22,
     "metadata": {},
     "output_type": "execute_result"
    }
   ],
   "source": [
    "Xtest = enc.transform(Test).toarray()\n",
    "Xtest.shape"
   ]
  },
  {
   "cell_type": "code",
   "execution_count": 23,
   "metadata": {},
   "outputs": [],
   "source": [
    "yt = model.predict(Xtest)"
   ]
  },
  {
   "cell_type": "code",
   "execution_count": 24,
   "metadata": {},
   "outputs": [
    {
     "data": {
      "text/plain": [
       "[<matplotlib.lines.Line2D at 0x25bfffd03c8>]"
      ]
     },
     "execution_count": 24,
     "metadata": {},
     "output_type": "execute_result"
    },
    {
     "data": {
      "image/png": "[encoded data removed]",
      "text/plain": [
       "<Figure size 1440x360 with 1 Axes>"
      ]
     },
     "metadata": {
      "needs_background": "light"
     },
     "output_type": "display_data"
    }
   ],
   "source": [
    "plt.figure(figsize=(20,5))\n",
    "plt.xlabel('Index',fontsize=20)\n",
    "plt.ylabel('Hire_count',fontsize=20)\n",
    "plt.plot(yt)"
   ]
  },
  {
   "cell_type": "code",
   "execution_count": 25,
   "metadata": {},
   "outputs": [],
   "source": [
    "test_df=pd.read_csv('test_hire_stats.csv',sep=',')\n",
    "test_df['Hire_count']=yt\n",
    "test_df.head()\n",
    "test_df.to_csv('predict.csv',index=False)"
   ]
  },
  {
   "cell_type": "code",
   "execution_count": null,
   "metadata": {},
   "outputs": [],
   "source": []
  }
 ],
 "metadata": {
  "kernelspec": {
   "display_name": "Python 3",
   "language": "python",
   "name": "python3"
  },
  "language_info": {
   "codemirror_mode": {
    "name": "ipython",
    "version": 3
   },
   "file_extension": ".py",
   "mimetype": "text/x-python",
   "name": "python",
   "nbconvert_exporter": "python",
   "pygments_lexer": "ipython3",
   "version": "3.7.3"
  }
 },
 "nbformat": 4,
 "nbformat_minor": 2
}
